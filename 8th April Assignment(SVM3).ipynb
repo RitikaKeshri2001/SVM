{
 "cells": [
  {
   "attachments": {},
   "cell_type": "markdown",
   "metadata": {},
   "source": [
    "#### Q1. In order to predict house price based on several characteristics, such as location, square footage, number of bedrooms, etc., you are developing an SVM regression model. Which regression metric in this situation would be the best to employ?\n",
    "\n",
    "In order to predict the house price the best regression metric would be \"Mean Squared Error(MSE)\" or \"Root Mean Squared Error(RMSE)\" regression metric. </br>\n",
    "The mean squared error is a common regression metric that measures the average squared difference between the predicted and actual values. The MSE is often preferred because it gives more weight to large errors, which are especially important in the of house price prediction. The lower the MSE, the better the model's performance.</br>\n",
    "RMSE is simply the square root of MSE, which has the advantage of being in the same unit as the target variable (in this case, dollars), making it easier to interpret."
   ]
  },
  {
   "attachments": {},
   "cell_type": "markdown",
   "metadata": {},
   "source": [
    "#### Q2. You have built an SVM regression model and are trying to decide between using MSE or R-squared as your evaluation metric. Which metric would be more appropriate if your goal is to predict the actual price of a house as accurately as possible?\n",
    "\n",
    "In order to predict the actual price of a house accurately \"MSE\" would be preferred over R-Squared. \n",
    "\n",
    "MSE measures the average of the squared differences between the actual outcome and the predicted outcome. It quantifies how close the predictions are to the actual values in terms of squared errors. The lower the MSE, the better the model. Therefore, if our goal is to minimize the difference between predicted and actual house prices, MSE would be the most appropriate evaluation metric.\n",
    "\n",
    "R-squared, on the other hand, measures the proportion of variation in the outcome that is explained by the predictor variables. It quantifies how well the model fits the data in terms of goodness of fit. R<sup>2</sup> does not directly measure the accuracy of the predicted house prices, so it may not be the most appropriate metric for the predicting of the house price."
   ]
  },
  {
   "attachments": {},
   "cell_type": "markdown",
   "metadata": {},
   "source": [
    "#### Q3. You have a dataset with a significant number of outliers and are trying to select an appropriate regression metric to use with your SVM model. Which metric would be the most appropriate in this scenario?\n",
    "\n",
    "When there is a significant number of outliers in the dataset \"Mean Absolute Error(MAE)\" is preferred.\n",
    "\n",
    "MAE measures the average absolute difference between predicted and actual values. MAE is less sensitive to outliers because it takes the absolute value of the differences. MAE is more robust to outliers than MSE, which measures the average of the squared differences between the actual outcome and the predicted outcome. MSE is more sensitive to outliers because it gives more weight to larger errors by squaring them. This means that MSE can be inflated by a few extreme values in the data. "
   ]
  },
  {
   "attachments": {},
   "cell_type": "markdown",
   "metadata": {},
   "source": [
    "#### Q4. You have built an SVM regression model using a polynomial kernel and are trying to select the best metric to evaluate its performance. You have calculated both MSE and RMSE and found that both values are very close. Which metric should you choose to use in this case?\n",
    "\n",
    "Since both MSE and RMSE have very close value, then we can choose either of them as they are both measures of prediction errors. Both metrics quantify how close the predictions are to the actual values in terms of squared errors. The lower the MSE or RMSE, the better the model.</br>\n",
    "MSE measures the average of the squared differences between predicted and actual values, while RMSE is the square root of MSE and has the advantage of being in the same unit as the target variable. \n",
    "\n",
    "However, RMSE is generally more interpretable than MSE, as it is in the same unit as the target variable. "
   ]
  },
  {
   "attachments": {},
   "cell_type": "markdown",
   "metadata": {},
   "source": [
    "#### Q5. You are comparing the performance of different SVM regression models using different kernels (linear, polynomial, and RBF) and are trying to select the best evaluation metric. Which metric would be most appropriate if your goal is to measure how well the model explains the variance in the target variable?\n",
    "\n",
    "To measure how well the SVM regression models with different kernels explain the varaince in the target variable, \"R-Squared\" metrix would be most appropriate evaluation metric.\n",
    "\n",
    "R-squared measures the proportion of the variance in the target variable that is explained by the model. R2 ranges from 0 to 1, where 1 indicates that the model explains all the variability of the target variable."
   ]
  },
  {
   "cell_type": "code",
   "execution_count": null,
   "metadata": {},
   "outputs": [],
   "source": []
  }
 ],
 "metadata": {
  "language_info": {
   "name": "python"
  },
  "orig_nbformat": 4
 },
 "nbformat": 4,
 "nbformat_minor": 2
}
