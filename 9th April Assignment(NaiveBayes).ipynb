{
 "cells": [
  {
   "cell_type": "markdown",
   "metadata": {},
   "source": [
    "#### Q1. What is Bayes' theorem?\n",
    "\n",
    "Bayes's theorem(alternatively Bayes' law or Bayes' rule), named after Thomas Bayes,is a mathematical formula that describes the probability of an event occurring based on prior knowledge of conditions that might be related to the event. It is often used in statistics and machine learning to update probabilities as new information becomes available. It is a way to calculate the value of P(B|A) with the knowledge of P(A|B). Bayes' theorem allows updating the probability prediction of an event by observing new information of the real world.\n",
    "\n",
    "The equation for Bayes's theorem:\n",
    "\n",
    "P(A|B) = P(B|A) x P(A) / P(B)\n",
    "\n",
    "The above equation is called as Bayes' rule or Bayes' theorem. "
   ]
  },
  {
   "cell_type": "markdown",
   "metadata": {},
   "source": [
    "#### Q2. What is the formula for Bayes' theorem?\n",
    "\n",
    "The formula for Bayes's theorem is:\n",
    "\n",
    "P(A|B) = P(B|A) x P(A) / P(B)\n",
    "\n",
    "Where:</br>\n",
    "P(A|B) is the probability of event A given that event B has occurred.</br>\n",
    "P(B|A) is the probability of event B given that event A has occurred.</br>\n",
    "P(A) is the prior probability of event A occurring.</br>\n",
    "P(B) is the prior probability of event B occurring."
   ]
  },
  {
   "cell_type": "markdown",
   "metadata": {},
   "source": [
    "#### Q4. What is the relationship between Bayes' theorem and conditional probability?\n",
    "\n",
    "Conditional probability is the probability of an event occurring given that another event has already occurred. It is denoted by P(A|B), where A and B are two events. P(A|B) would be the probability of event A occurring given that event B has already occurred.\n",
    "\n",
    "Bayes' theorem is a formula used to calculate conditional probabilities. It is based on the idea of reversing the order of conditional probabilities. Bayes' theorem states that:\n",
    "\n",
    "P(A|B) = P(B|A) * P(A) / P(B)\n",
    "\n",
    "where P(A) and P(B) are the probabilities of events A and B occurring, respectively.\n",
    "\n",
    "Bayes' theorem and conditional probability are related because Bayes' theorem provides a way to calculate conditional probabilities. By rearranging the terms in Bayes' theorem, we can obtain expressions for conditional probabilities such as P(A|B)."
   ]
  },
  {
   "cell_type": "markdown",
   "metadata": {},
   "source": [
    "#### Q5. How do you choose which type of Naive Bayes classifier to use for any given problem?\n",
    "\n",
    "Types of Naive Bayes depending on the distribution and nature of the features:\n",
    "- Bernaulli Naive Bayes: This types of Naive Bayes is used when the features are binary.  It assumes that the likelihood of each feature given the class is Bernoulli, and estimates the probability of each feature being 1 or 0 for each class from the data.\n",
    "\n",
    "- Multinomial Naive Bayes: This type of Naive Bayes is used when the features represent the frequency or count of discrete events, such as words in documents. It assumes that the likelihood of each feature given the class is multinomial.\n",
    "\n",
    "- Gaussian Naive Bayes: This type of Naive Bayes is used when the features are continuous and follow a normal distribution. It assumes that the likelihood of each feature given the class is Gaussian."
   ]
  },
  {
   "cell_type": "markdown",
   "metadata": {},
   "source": [
    "#### Q6. Assignment:\n",
    "You have a dataset with two features, X1 and X2, and two possible classes, A and B. You want to use Naive\n",
    "Bayes to classify a new instance with features X1 = 3 and X2 = 4. The following table shows the frequency of\n",
    "each feature value for each class:\n",
    "\n",
    "    Class  X1=1 X1=2 X1=3 X2=1 X2=2 X2=3 X2=4\n",
    "      A      3    3    4   4    3    3    3\n",
    "      B      2    2    1   2    2    2    3\n",
    "\n",
    "Assuming equal prior probabilities for each class, which class would Naive Bayes predict the new instance\n",
    "to belong to?"
   ]
  },
  {
   "cell_type": "markdown",
   "metadata": {},
   "source": [
    "P(A|B) = P(B|A) x P(A) / P(B)\n",
    "\n",
    "P(A/(X1=3, X2 = 4)) = P((X1=3)/A) * P((X2=4)/A) * P(A) / P(X1=3, X2 = 4)</br>\n",
    "\n",
    "P(B/(X1=3, X2 = 4)) = P((X1=3)/B) * P((X2=4)/B) * P(B) / P(X1=3, X2 = 4)\n",
    "\n",
    "We can ignore the denominator since both have same value. And we can also ignore P(A) and P(B) because they have same value.\n",
    "\n",
    "P((X1=3)/A) = 4/10 = 0.4</br>\n",
    "\n",
    "P((X2=4)/A) = 3/13\n",
    "\n",
    "P((X1=3)/B) = 1/5</br>\n",
    "\n",
    "P((X2=4)/B) = 3/9 = 1/3\n",
    "\n",
    "So, \n",
    "\n",
    "P(A/(X1=3, X2 = 4)) = P((X1=3)/A) * P((X2=4)/A) = (4/10) *( 3/13) = 12/130 = 0.0923</br>\n",
    "\n",
    "P(B/(X1=3, X2 = 4)) = P((X1=3)/B) * P((X2=4)/B) = 1/5 * 1/3 = 1/15 =  0.0666\n",
    "\n",
    "\n",
    "P(A/(X1=3, X2 = 4)) = 0.0923 / (0.0923 + 0.0666) = 0.58</br>\n",
    "\n",
    "P(B/(X1=3, X2 = 4)) = 0.0666 / (0.0923 + 0.0666) = 0.42\n",
    "\n",
    "58% Class A and 42% class B\n",
    "\n",
    "Output: (X1=3, X2 = 4) belongs to Class A"
   ]
  },
  {
   "cell_type": "code",
   "execution_count": null,
   "metadata": {},
   "outputs": [],
   "source": []
  }
 ],
 "metadata": {
  "kernelspec": {
   "display_name": "Python 3 (ipykernel)",
   "language": "python",
   "name": "python3"
  },
  "language_info": {
   "codemirror_mode": {
    "name": "ipython",
    "version": 3
   },
   "file_extension": ".py",
   "mimetype": "text/x-python",
   "name": "python",
   "nbconvert_exporter": "python",
   "pygments_lexer": "ipython3",
   "version": "3.10.8"
  }
 },
 "nbformat": 4,
 "nbformat_minor": 4
}
